{
 "cells": [
  {
   "metadata": {},
   "cell_type": "markdown",
   "source": "Building a prediction model is the third step of the Tardis Project. The goal is to use the values in our cleaned dataset to predict future delays.",
   "id": "1279a4cdef5ba01b"
  },
  {
   "cell_type": "code",
   "id": "initial_id",
   "metadata": {
    "collapsed": true,
    "ExecuteTime": {
     "end_time": "2025-04-26T14:38:09.047171Z",
     "start_time": "2025-04-26T14:38:09.043642Z"
    }
   },
   "source": [
    "import pandas as pd\n",
    "import numpy as np\n",
    "import matplotlib.pyplot as plt\n",
    "import scipy as sp\n",
    "from sklearn.model_selection import train_test_split, GridSearchCV\n",
    "from sklearn.pipeline import Pipeline\n",
    "from sklearn.preprocessing import StandardScaler, OneHotEncoder\n",
    "from sklearn.compose import ColumnTransformer\n",
    "from sklearn.ensemble import RandomForestRegressor\n",
    "from sklearn.metrics import make_scorer, mean_squared_error"
   ],
   "outputs": [],
   "execution_count": 66
  },
  {
   "metadata": {
    "ExecuteTime": {
     "end_time": "2025-04-26T14:38:09.111672Z",
     "start_time": "2025-04-26T14:38:09.108719Z"
    }
   },
   "cell_type": "code",
   "source": [
    "def hms_to_minutes(hms):\n",
    "    if pd.isna(hms):\n",
    "        return None\n",
    "    parts = str(hms).split('.')\n",
    "    if len(parts) == 3:\n",
    "        hours, minutes, seconds = map(int, parts)\n",
    "        return hours * 60 + minutes + seconds / 60\n",
    "    else:\n",
    "        return None  # or raise an error"
   ],
   "id": "5347faeb18dd7a31",
   "outputs": [],
   "execution_count": 67
  },
  {
   "metadata": {},
   "cell_type": "markdown",
   "source": "First, we load our cleaned dataset with pandas",
   "id": "2376181050b231dd"
  },
  {
   "metadata": {
    "ExecuteTime": {
     "end_time": "2025-04-26T14:38:09.270119Z",
     "start_time": "2025-04-26T14:38:09.162392Z"
    }
   },
   "cell_type": "code",
   "source": [
    "df = pd.read_csv('cleaned_dataset.csv', delimiter=',', on_bad_lines='warn')\n",
    "\n",
    "columns_to_convert = [\n",
    "    \"Average journey time\",\n",
    "    \"Average delay of late trains at departure\",\n",
    "    \"Average delay of all trains at departure\",\n",
    "    \"Average delay of late trains at arrival\",\n",
    "    \"Average delay of all trains at arrival\",\n",
    "    \"Average delay of trains > 15min (if competing with flights)\",\n",
    "    \"Pct delay due to external causes\",\n",
    "    \"Pct delay due to infrastructure\",\n",
    "    \"Pct delay due to traffic management\",\n",
    "    \"Pct delay due to rolling stock\",\n",
    "    \"Pct delay due to station management and equipment reuse\",\n",
    "    \"Pct delay due to passenger handling (crowding, disabled persons, connections)\",\n",
    "]\n",
    "\n",
    "for col in columns_to_convert:\n",
    "    if col in df.columns:\n",
    "        df[col] = df[col].apply(hms_to_minutes)"
   ],
   "id": "561426c983f24eef",
   "outputs": [],
   "execution_count": 68
  },
  {
   "metadata": {},
   "cell_type": "markdown",
   "source": "Then we decide which columns  ",
   "id": "34837fa5e908d8a6"
  },
  {
   "metadata": {
    "ExecuteTime": {
     "end_time": "2025-04-26T14:38:09.293347Z",
     "start_time": "2025-04-26T14:38:09.288009Z"
    }
   },
   "cell_type": "code",
   "source": [
    "X = df[\n",
    "    ['Date',\n",
    "     'Service',\n",
    "     'Departure station',\n",
    "     'Arrival station',\n",
    "     'Average journey time',\n",
    "     'Number of scheduled trains',\n",
    "     'Number of cancelled trains',\n",
    "     'Number of trains delayed at departure',\n",
    "     'Number of trains delayed at arrival',\n",
    "     'Number of trains delayed > 15min']\n",
    "]\n",
    "\n",
    "'''y = df[\n",
    "    ['Average delay of late trains at departure',\n",
    "     'Average delay of all trains at departure',\n",
    "     'Average delay of late trains at arrival',\n",
    "     'Average delay of all trains at arrival',\n",
    "     'Average delay of trains > 15min (if competing with flights)',\n",
    "     ]\n",
    "]'''\n",
    "y = df['Average delay of all trains at arrival']\n",
    "\n",
    "\n",
    "#maybe add this later\n",
    "'''Pct delay due to external causes', 'Pct delay due to infrastructure'\n",
    "     'Pct delay due to traffic management',\n",
    "     'Pct delay due to rolling stock',\n",
    "     'Pct delay due to station management and equipment reuse',\n",
    "     'Pct delay due to passenger handling (crowding, disabled persons, connections)'''\n",
    "\n",
    "X_train, X_test, y_train, y_test = train_test_split(X, y, test_size=0.2, random_state=42)"
   ],
   "id": "88cc07cd7a4a9563",
   "outputs": [],
   "execution_count": 69
  },
  {
   "metadata": {},
   "cell_type": "markdown",
   "source": [
    "1. grid\n",
    "2. pipeline\n",
    "3. scale + model selection\n",
    "4. test different models"
   ],
   "id": "a37f5b3b6f18557f"
  },
  {
   "metadata": {
    "ExecuteTime": {
     "end_time": "2025-04-26T14:38:09.346580Z",
     "start_time": "2025-04-26T14:38:09.343787Z"
    }
   },
   "cell_type": "code",
   "source": [
    "def build_pipeline(numeric_features, categorical_features):\n",
    "    numeric_transformer = Pipeline(steps=[\n",
    "        ('scaler', StandardScaler())\n",
    "    ])\n",
    "\n",
    "    categorical_transformer = Pipeline(steps=[\n",
    "        ('onehot', OneHotEncoder(handle_unknown='ignore'))\n",
    "    ])\n",
    "\n",
    "    preprocessor = ColumnTransformer(transformers=[\n",
    "        ('num', numeric_transformer, numeric_features),\n",
    "        ('cat', categorical_transformer, categorical_features)\n",
    "    ])\n",
    "\n",
    "    pipe = Pipeline(steps=[\n",
    "        ('preprocessor', preprocessor),\n",
    "        ('regressor', RandomForestRegressor(random_state=42))\n",
    "    ])\n",
    "\n",
    "    return pipe"
   ],
   "id": "ba24f448fc5b0da8",
   "outputs": [],
   "execution_count": 70
  },
  {
   "metadata": {
    "ExecuteTime": {
     "end_time": "2025-04-26T14:40:28.247223Z",
     "start_time": "2025-04-26T14:38:09.398746Z"
    }
   },
   "cell_type": "code",
   "source": [
    "numeric_features = ['Average journey time',\n",
    "     'Number of scheduled trains',\n",
    "     'Number of cancelled trains',\n",
    "     'Number of trains delayed at departure',\n",
    "     'Number of trains delayed at arrival',\n",
    "     'Number of trains delayed > 15min']\n",
    "\n",
    "categorical_features = [\"Date\", \"Service\", \"Departure station\", \"Arrival station\"]\n",
    "\n",
    "pipeline = build_pipeline(numeric_features, categorical_features)\n",
    "\n",
    "rmse_scorer = make_scorer(mean_squared_error, greater_is_better=False, squared=False)\n",
    "\n",
    "param_grid = {\n",
    "    'regressor__n_estimators': [50, 100],\n",
    "    'regressor__max_depth': [5, 10, None]\n",
    "}\n",
    "\n",
    "grid_search = GridSearchCV(\n",
    "    pipeline,\n",
    "    param_grid,\n",
    "    cv=5,\n",
    "    scoring=rmse_scorer,\n",
    "    n_jobs=-1\n",
    ")\n",
    "\n",
    "grid_search.fit(X_train, y_train)\n",
    "\n",
    "y_pred = grid_search.predict(X_test)"
   ],
   "id": "397f7371bbcb9d01",
   "outputs": [
    {
     "name": "stdout",
     "output_type": "stream",
     "text": [
      "\n",
      "[DEBUG] X_train head:\n",
      "         Date   Service  Departure station       Arrival station  \\\n",
      "2436  2020-02  National         PARIS LYON                 NIMES   \n",
      "746   2018-08  National     LYON PART DIEU  MARSEILLE ST CHARLES   \n",
      "6307  2023-10  National         PARIS LYON                 NIMES   \n",
      "2095      NaN  National  LA ROCHELLE VILLE    PARIS MONTPARNASSE   \n",
      "4541  2022-02  National             RENNES    PARIS MONTPARNASSE   \n",
      "\n",
      "      Average journey time  Number of scheduled trains  \\\n",
      "2436            180.000000                         178   \n",
      "746             105.000000                         556   \n",
      "6307           1702.583333                         201   \n",
      "2095            165.000000                         193   \n",
      "4541             98.000000                         758   \n",
      "\n",
      "      Number of cancelled trains  Number of trains delayed at departure  \\\n",
      "2436                           0                                     76   \n",
      "746                            2                                    354   \n",
      "6307                           0                                     35   \n",
      "2095                           2                                     80   \n",
      "4541                           1                                      0   \n",
      "\n",
      "      Number of trains delayed at arrival  Number of trains delayed > 15min  \n",
      "2436                                   16                                12  \n",
      "746                                   179                               142  \n",
      "6307                                   42                                34  \n",
      "2095                                   44                                29  \n",
      "4541                                   90                                36  \n",
      "\n",
      "[DEBUG] X_train types:\n",
      "Date                                      object\n",
      "Service                                   object\n",
      "Departure station                         object\n",
      "Arrival station                           object\n",
      "Average journey time                     float64\n",
      "Number of scheduled trains                 int64\n",
      "Number of cancelled trains                 int64\n",
      "Number of trains delayed at departure      int64\n",
      "Number of trains delayed at arrival        int64\n",
      "Number of trains delayed > 15min           int64\n",
      "dtype: object\n",
      "\n",
      "[DEBUG] y_train head:\n",
      "2436     4.700000\n",
      "746     58.466667\n",
      "6307    14.466667\n",
      "2095     7.116667\n",
      "4541     3.316667\n",
      "Name: Average delay of all trains at arrival, dtype: float64\n",
      "\n",
      "[DEBUG] y_train type:\n",
      "float64\n"
     ]
    }
   ],
   "execution_count": 71
  },
  {
   "metadata": {
    "ExecuteTime": {
     "end_time": "2025-04-26T14:40:28.271611Z",
     "start_time": "2025-04-26T14:40:28.268402Z"
    }
   },
   "cell_type": "code",
   "source": [
    "# Evaluate\n",
    "rmse = np.sqrt(mean_squared_error(y_test, y_pred))\n",
    "print(f\"Test RMSE: {rmse:.2f}\")\n",
    "\n",
    "# Best params\n",
    "print(\"Best parameters found:\", grid_search.best_params_)"
   ],
   "id": "d7344f8e5c92cf80",
   "outputs": [
    {
     "name": "stdout",
     "output_type": "stream",
     "text": [
      "Test RMSE: 13.07\n",
      "Best parameters found: {'regressor__max_depth': 5, 'regressor__n_estimators': 100}\n"
     ]
    }
   ],
   "execution_count": 72
  }
 ],
 "metadata": {
  "kernelspec": {
   "display_name": "Python 3",
   "language": "python",
   "name": "python3"
  },
  "language_info": {
   "codemirror_mode": {
    "name": "ipython",
    "version": 2
   },
   "file_extension": ".py",
   "mimetype": "text/x-python",
   "name": "python",
   "nbconvert_exporter": "python",
   "pygments_lexer": "ipython2",
   "version": "2.7.6"
  }
 },
 "nbformat": 4,
 "nbformat_minor": 5
}
